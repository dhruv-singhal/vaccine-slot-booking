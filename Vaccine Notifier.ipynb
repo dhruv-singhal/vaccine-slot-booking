{
 "cells": [
  {
   "cell_type": "markdown",
   "metadata": {},
   "source": [
    "# Vaccine Slot Notifier\n"
   ]
  },
  {
   "cell_type": "markdown",
   "metadata": {},
   "source": [
    "## Download the zip file and unzip it. It has two files one is pynv file and other is alert sound. Open Jupyter Lab and run the code keeping the both the file in the same folder."
   ]
  },
  {
   "cell_type": "markdown",
   "metadata": {},
   "source": [
    "## The script will run indefinately untill you stops so start this when you want alert for your vaccine slot keep running with in background."
   ]
  },
  {
   "cell_type": "code",
   "execution_count": 17,
   "metadata": {},
   "outputs": [
    {
     "name": "stdout",
     "output_type": "stream",
     "text": [
      "Requirement already satisfied: CoWIN-API-by-Kunal-Kumar-Sahoo in /home/dhruv/anaconda3/lib/python3.8/site-packages (1.0.0)\n",
      "Requirement already satisfied: typing==3.7.4.3 in /home/dhruv/anaconda3/lib/python3.8/site-packages (from CoWIN-API-by-Kunal-Kumar-Sahoo) (3.7.4.3)\n",
      "Requirement already satisfied: requests==2.25.1 in /home/dhruv/anaconda3/lib/python3.8/site-packages (from CoWIN-API-by-Kunal-Kumar-Sahoo) (2.25.1)\n",
      "Requirement already satisfied: pytest==6.2.3 in /home/dhruv/anaconda3/lib/python3.8/site-packages (from CoWIN-API-by-Kunal-Kumar-Sahoo) (6.2.3)\n",
      "Requirement already satisfied: fake-useragent==0.1.11 in /home/dhruv/anaconda3/lib/python3.8/site-packages (from CoWIN-API-by-Kunal-Kumar-Sahoo) (0.1.11)\n",
      "Requirement already satisfied: iniconfig in /home/dhruv/anaconda3/lib/python3.8/site-packages (from pytest==6.2.3->CoWIN-API-by-Kunal-Kumar-Sahoo) (1.1.1)\n",
      "Requirement already satisfied: packaging in /home/dhruv/anaconda3/lib/python3.8/site-packages (from pytest==6.2.3->CoWIN-API-by-Kunal-Kumar-Sahoo) (20.4)\n",
      "Requirement already satisfied: toml in /home/dhruv/anaconda3/lib/python3.8/site-packages (from pytest==6.2.3->CoWIN-API-by-Kunal-Kumar-Sahoo) (0.10.1)\n",
      "Requirement already satisfied: py>=1.8.2 in /home/dhruv/anaconda3/lib/python3.8/site-packages (from pytest==6.2.3->CoWIN-API-by-Kunal-Kumar-Sahoo) (1.9.0)\n",
      "Requirement already satisfied: pluggy<1.0.0a1,>=0.12 in /home/dhruv/anaconda3/lib/python3.8/site-packages (from pytest==6.2.3->CoWIN-API-by-Kunal-Kumar-Sahoo) (0.13.1)\n",
      "Requirement already satisfied: attrs>=19.2.0 in /home/dhruv/anaconda3/lib/python3.8/site-packages (from pytest==6.2.3->CoWIN-API-by-Kunal-Kumar-Sahoo) (20.3.0)\n",
      "Requirement already satisfied: urllib3<1.27,>=1.21.1 in /home/dhruv/anaconda3/lib/python3.8/site-packages (from requests==2.25.1->CoWIN-API-by-Kunal-Kumar-Sahoo) (1.25.11)\n",
      "Requirement already satisfied: chardet<5,>=3.0.2 in /home/dhruv/anaconda3/lib/python3.8/site-packages (from requests==2.25.1->CoWIN-API-by-Kunal-Kumar-Sahoo) (3.0.4)\n",
      "Requirement already satisfied: certifi>=2017.4.17 in /home/dhruv/anaconda3/lib/python3.8/site-packages (from requests==2.25.1->CoWIN-API-by-Kunal-Kumar-Sahoo) (2020.6.20)\n",
      "Requirement already satisfied: idna<3,>=2.5 in /home/dhruv/anaconda3/lib/python3.8/site-packages (from requests==2.25.1->CoWIN-API-by-Kunal-Kumar-Sahoo) (2.10)\n",
      "Requirement already satisfied: pyparsing>=2.0.2 in /home/dhruv/anaconda3/lib/python3.8/site-packages (from packaging->pytest==6.2.3->CoWIN-API-by-Kunal-Kumar-Sahoo) (2.4.7)\n",
      "Requirement already satisfied: six in /home/dhruv/anaconda3/lib/python3.8/site-packages (from packaging->pytest==6.2.3->CoWIN-API-by-Kunal-Kumar-Sahoo) (1.15.0)\n",
      "\u001b[33mWARNING: You are using pip version 21.0.1; however, version 21.1.1 is available.\n",
      "You should consider upgrading via the '/home/dhruv/anaconda3/bin/python -m pip install --upgrade pip' command.\u001b[0m\n",
      "Note: you may need to restart the kernel to use updated packages.\n"
     ]
    }
   ],
   "source": [
    "pip install CoWIN-API-by-Kunal-Kumar-Sahoo"
   ]
  },
  {
   "cell_type": "code",
   "execution_count": 2,
   "metadata": {},
   "outputs": [
    {
     "name": "stdout",
     "output_type": "stream",
     "text": [
      "Requirement already satisfied: pydub in /home/dhruv/anaconda3/lib/python3.8/site-packages (0.25.1)\n",
      "\u001b[33mWARNING: You are using pip version 21.0.1; however, version 21.1.1 is available.\n",
      "You should consider upgrading via the '/home/dhruv/anaconda3/bin/python -m pip install --upgrade pip' command.\u001b[0m\n",
      "Note: you may need to restart the kernel to use updated packages.\n"
     ]
    }
   ],
   "source": [
    "\n",
    "pip install pydub"
   ]
  },
  {
   "cell_type": "markdown",
   "metadata": {},
   "source": [
    "## Run the below cell to get your State Code."
   ]
  },
  {
   "cell_type": "code",
   "execution_count": 1,
   "metadata": {},
   "outputs": [
    {
     "name": "stdout",
     "output_type": "stream",
     "text": [
      "                     state_name  state_id\n",
      "0   Andaman and Nicobar Islands         1\n",
      "1                Andhra Pradesh         2\n",
      "2             Arunachal Pradesh         3\n",
      "3                         Assam         4\n",
      "4                         Bihar         5\n",
      "5                    Chandigarh         6\n",
      "6                  Chhattisgarh         7\n",
      "7        Dadra and Nagar Haveli         8\n",
      "8                 Daman and Diu        37\n",
      "9                         Delhi         9\n",
      "10                          Goa        10\n",
      "11                      Gujarat        11\n",
      "12                      Haryana        12\n",
      "13             Himachal Pradesh        13\n",
      "14            Jammu and Kashmir        14\n",
      "15                    Jharkhand        15\n",
      "16                    Karnataka        16\n",
      "17                       Kerala        17\n",
      "18                       Ladakh        18\n",
      "19                  Lakshadweep        19\n",
      "20               Madhya Pradesh        20\n",
      "21                  Maharashtra        21\n",
      "22                      Manipur        22\n",
      "23                    Meghalaya        23\n",
      "24                      Mizoram        24\n",
      "25                     Nagaland        25\n",
      "26                       Odisha        26\n",
      "27                   Puducherry        27\n",
      "28                       Punjab        28\n",
      "29                    Rajasthan        29\n",
      "30                       Sikkim        30\n",
      "31                   Tamil Nadu        31\n",
      "32                    Telangana        32\n",
      "33                      Tripura        33\n",
      "34                Uttar Pradesh        34\n",
      "35                  Uttarakhand        35\n",
      "36                  West Bengal        36\n"
     ]
    }
   ],
   "source": [
    "from cowin_api import CoWinAPI\n",
    "from pydub import AudioSegment\n",
    "from pydub.playback import play\n",
    "import time\n",
    "\n",
    "import smtplib \n",
    "\n",
    "from email.mime.multipart import MIMEMultipart \n",
    "from email.mime.text import MIMEText \n",
    "from email.mime.base import MIMEBase \n",
    "from email import encoders \n",
    "import pandas as pd\n",
    "cowin = CoWinAPI()\n",
    "\n",
    "states = cowin.get_states()\n",
    "df = pd.DataFrame.from_dict(states)\n",
    "list_states = df.states.to_list()\n",
    "state_name = []\n",
    "state_id = []\n",
    "for k in list_states:\n",
    "    state_name.append(k['state_name'])\n",
    "    state_id.append(k['state_id'])\n",
    "State_Code = pd.DataFrame.from_dict({\"state_name\" : state_name,\n",
    "                            \"state_id\": state_id})\n",
    "print(State_Code)"
   ]
  },
  {
   "cell_type": "markdown",
   "metadata": {},
   "source": [
    "## Run the below cell and input the state code corresponding to your state to get destricts code."
   ]
  },
  {
   "cell_type": "code",
   "execution_count": 2,
   "metadata": {},
   "outputs": [
    {
     "name": "stdin",
     "output_type": "stream",
     "text": [
      "Enter Your State ID: 20\n"
     ]
    },
    {
     "name": "stdout",
     "output_type": "stream",
     "text": [
      "   districts_name  districts_id\n",
      "0            Agar           320\n",
      "1       Alirajpur           357\n",
      "2         Anuppur           334\n",
      "3      Ashoknagar           354\n",
      "4        Balaghat           338\n",
      "5         Barwani           343\n",
      "6           Betul           362\n",
      "7           Bhind           351\n",
      "8          Bhopal           312\n",
      "9       Burhanpur           342\n",
      "10     Chhatarpur           328\n",
      "11     Chhindwara           337\n",
      "12          Damoh           327\n",
      "13          Datia           350\n",
      "14          Dewas           324\n",
      "15           Dhar           341\n",
      "16        Dindori           336\n",
      "17           Guna           348\n",
      "18        Gwalior           313\n",
      "19          Harda           361\n",
      "20    Hoshangabad           360\n",
      "21         Indore           314\n",
      "22       Jabalpur           315\n",
      "23         Jhabua           340\n",
      "24          Katni           353\n",
      "25        Khandwa           339\n",
      "26       Khargone           344\n",
      "27         Mandla           335\n",
      "28       Mandsaur           319\n",
      "29         Morena           347\n",
      "30    Narsinghpur           352\n",
      "31        Neemuch           323\n",
      "32          Panna           326\n",
      "33         Raisen           359\n",
      "34        Rajgarh           358\n",
      "35         Ratlam           322\n",
      "36           Rewa           316\n",
      "37          Sagar           317\n",
      "38          Satna           333\n",
      "39         Sehore           356\n",
      "40          Seoni           349\n",
      "41        Shahdol           332\n",
      "42       Shajapur           321\n",
      "43        Sheopur           346\n",
      "44       Shivpuri           345\n",
      "45          Sidhi           331\n",
      "46      Singrauli           330\n",
      "47      Tikamgarh           325\n",
      "48         Ujjain           318\n",
      "49         Umaria           329\n",
      "50        Vidisha           355\n"
     ]
    }
   ],
   "source": [
    "from cowin_api import CoWinAPI\n",
    "\n",
    "state_id = input(\"Enter Your State ID:\")\n",
    "cowin = CoWinAPI()\n",
    "districts = cowin.get_districts(state_id)\n",
    "df1 = pd.DataFrame.from_dict(districts)\n",
    "list_districts = df1.districts.to_list()\n",
    "districts_name = []\n",
    "districts_id = []\n",
    "for k in list_districts:\n",
    "    districts_name.append(k['district_name'])\n",
    "    districts_id.append(k['district_id'])\n",
    "Districts_Code = pd.DataFrame.from_dict({\"districts_name\" : districts_name,\n",
    "                            \"districts_id\": districts_id})\n",
    "print(Districts_Code)"
   ]
  },
  {
   "cell_type": "markdown",
   "metadata": {},
   "source": [
    "## Run this cell for alert, make sure both code file(pynb) and alert.mp3 are in same folder to get alert sound."
   ]
  },
  {
   "cell_type": "code",
   "execution_count": 3,
   "metadata": {},
   "outputs": [],
   "source": [
    "def vaccine_available(k,email):\n",
    "    print(\"Vaacine Available\")\n",
    "    print(k)\n",
    "    import smtplib\n",
    "    \n",
    "    s = smtplib.SMTP('smtp.gmail.com', 587)\n",
    "    s.starttls()\n",
    "    s.login(\"vaccine4u.iitkgp@gmail.com\", \"vaccine@123\")\n",
    "    message = \"The Vaccine is available at your pincode for Booking. Please schedule your appointment ASAP.\"\n",
    "    s.sendmail(\"vaccine4u.iitkgp@gmail.com\",email, message)\n",
    "    # terminating the session\n",
    "    s.quit()\n",
    "    try:     \n",
    "        # import required module\n",
    "        from pydub import AudioSegment\n",
    "        from pydub.playback import play\n",
    "  \n",
    "        # for playing mp3 file\n",
    "        song = AudioSegment.from_mp3(\"alert.mp3\")\n",
    "        print('playing sound using  pydub')\n",
    "        play(song)\n",
    "    except:\n",
    "        print(\"Place for audio file alert.mp3 in same folder of pyhton file\")\n",
    "        \n"
   ]
  },
  {
   "cell_type": "code",
   "execution_count": null,
   "metadata": {},
   "outputs": [],
   "source": []
  },
  {
   "cell_type": "markdown",
   "metadata": {},
   "source": [
    "\n",
    "## Run the below cell and input disctrict code, date for booking and email id to receive notification. After this lleave the code running in background."
   ]
  },
  {
   "cell_type": "code",
   "execution_count": 27,
   "metadata": {},
   "outputs": [
    {
     "name": "stdin",
     "output_type": "stream",
     "text": [
      "Enter Your District ID: 345\n",
      "Enter Date of booking in format dd-mm-yyyy : 13-05-2021\n",
      "Enter your mail id to notify : we@gmail.com\n",
      "Enter Age either 18 or 45: 18\n"
     ]
    },
    {
     "name": "stdout",
     "output_type": "stream",
     "text": [
      "Not Available\n",
      "Not Available\n",
      "Not Available\n",
      "Not Available\n",
      "Not Available\n",
      "Not Available\n",
      "Not Available\n",
      "Not Available\n",
      "Not Available\n",
      "Not Available\n",
      "Not Available\n",
      "Not Available\n",
      "Not Available\n",
      "Not Available\n",
      "Not Available\n",
      "Not Available\n",
      "Not Available\n",
      "Not Available\n"
     ]
    },
    {
     "ename": "KeyboardInterrupt",
     "evalue": "",
     "output_type": "error",
     "traceback": [
      "\u001b[0;31m---------------------------------------------------------------------------\u001b[0m",
      "\u001b[0;31mKeyboardInterrupt\u001b[0m                         Traceback (most recent call last)",
      "\u001b[0;32m<ipython-input-27-d957c61c29e3>\u001b[0m in \u001b[0;36m<module>\u001b[0;34m\u001b[0m\n\u001b[1;32m     31\u001b[0m             \u001b[0mprint\u001b[0m\u001b[0;34m(\u001b[0m\u001b[0;34m\"Not Available\"\u001b[0m\u001b[0;34m)\u001b[0m\u001b[0;34m\u001b[0m\u001b[0;34m\u001b[0m\u001b[0m\n\u001b[1;32m     32\u001b[0m     \u001b[0;32mimport\u001b[0m \u001b[0mtime\u001b[0m\u001b[0;34m\u001b[0m\u001b[0;34m\u001b[0m\u001b[0m\n\u001b[0;32m---> 33\u001b[0;31m     \u001b[0mtime\u001b[0m\u001b[0;34m.\u001b[0m\u001b[0msleep\u001b[0m\u001b[0;34m(\u001b[0m\u001b[0;36m5\u001b[0m\u001b[0;34m)\u001b[0m\u001b[0;34m\u001b[0m\u001b[0;34m\u001b[0m\u001b[0m\n\u001b[0m",
      "\u001b[0;31mKeyboardInterrupt\u001b[0m: "
     ]
    }
   ],
   "source": [
    "district_id = input(\"Enter Your District ID:\")\n",
    "date = input(\"Enter Date of booking in format dd-mm-yyyy :\")\n",
    "email = input(\"Enter your mail id to notify :\")\n",
    "min_age_limit = input(\"Enter Age either 18 or 45:\")\n",
    "min_age_limit = int(min_age_limit)\n",
    "45 # Optional. By default returns centers without filtering by min_age_limit\n",
    "                \n",
    "while(1):    \n",
    "    from cowin_api import CoWinAPI\n",
    "    #district_id = input(\"Enter Your District ID:\")\n",
    "    #date = '13-05-2021'  # Optional. Takes today's date by default\n",
    "    #date = input(\"Enter Date of booking in format dd-mm-yyyy :\")\n",
    "    #email = input(\"Enter your mail id to notify :\")\n",
    "    #min_age_limit = 45 # Optional. By default returns centers without filtering by min_age_limit\n",
    "    cowin = CoWinAPI()\n",
    "    available_centers = cowin.get_availability_by_district(district_id, date, min_age_limit)\n",
    "    #print(available_centers)\n",
    "    df = pd.DataFrame.from_dict(available_centers)\n",
    "    list = df.centers.to_list()\n",
    "    l = len(list)\n",
    "    if(l==0):\n",
    "        print(\"Not Opened\")\n",
    "    for i in range(l):\n",
    "        k = list[i]\n",
    "        v = k['sessions'][0]\n",
    "        vac_avail = v['available_capacity']\n",
    "        if(vac_avail > 0):\n",
    "            print(\"Available\", vac_avail)\n",
    "            vaccine_available(k,email)\n",
    "        else:\n",
    "            print(\"Not Available\")\n",
    "    import time\n",
    "    time.sleep(5)"
   ]
  },
  {
   "cell_type": "code",
   "execution_count": null,
   "metadata": {},
   "outputs": [],
   "source": []
  },
  {
   "cell_type": "code",
   "execution_count": 25,
   "metadata": {},
   "outputs": [],
   "source": [
    "\n"
   ]
  },
  {
   "cell_type": "code",
   "execution_count": null,
   "metadata": {},
   "outputs": [],
   "source": []
  },
  {
   "cell_type": "code",
   "execution_count": null,
   "metadata": {},
   "outputs": [],
   "source": []
  }
 ],
 "metadata": {
  "kernelspec": {
   "display_name": "Python 3",
   "language": "python",
   "name": "python3"
  },
  "language_info": {
   "codemirror_mode": {
    "name": "ipython",
    "version": 3
   },
   "file_extension": ".py",
   "mimetype": "text/x-python",
   "name": "python",
   "nbconvert_exporter": "python",
   "pygments_lexer": "ipython3",
   "version": "3.8.5"
  }
 },
 "nbformat": 4,
 "nbformat_minor": 4
}
